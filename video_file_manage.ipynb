{
 "cells": [
  {
   "cell_type": "code",
   "execution_count": 3,
   "metadata": {
    "collapsed": true
   },
   "outputs": [],
   "source": [
    "import os\n",
    "from collections import defaultdict\n",
    "from pprint import pprint\n",
    "import shutil\n",
    "\n",
    "# work_dir = r\"d:\\Downloads\\TV\\了不起的麦瑟尔夫人\\\\\"\n",
    "work_dir = r\"d:\\Downloads\\TV\""
   ]
  },
  {
   "cell_type": "markdown",
   "metadata": {},
   "source": [
    "### 将文件根据前缀整理到目录，前缀乃是根据分隔符分割所得"
   ]
  },
  {
   "cell_type": "code",
   "execution_count": 4,
   "metadata": {},
   "outputs": [
    {
     "name": "stdout",
     "output_type": "stream",
     "text": [
      "================Starting================\n",
      "[] \t d:\\Downloads\\TV\\[]\n",
      "  + 蓝色星球 Blue Planet S02E01 720p 天天美剧字幕组.mp4\n",
      "  +--Moving:d:\\Downloads\\TV\\蓝色星球 Blue Planet S02E01 720p 天天美剧字幕组.mp4\n",
      "  + 蓝色星球 Blue Planet S02E02 720p 天天美剧字幕组.mp4\n",
      "  +--Moving:d:\\Downloads\\TV\\蓝色星球 Blue Planet S02E02 720p 天天美剧字幕组.mp4\n",
      "蓝色星球.Blue.Planet \t d:\\Downloads\\TV\\蓝色星球.Blue.Planet\n",
      "Making dir:d:\\Downloads\\TV\\蓝色星球.Blue.Planet\n",
      "  + 蓝色星球.Blue.Planet.S02E03.720p-天天美剧字幕组.mp4\n",
      "  +--Moving:d:\\Downloads\\TV\\蓝色星球.Blue.Planet.S02E03.720p-天天美剧字幕组.mp4\n",
      "  + 蓝色星球.Blue.Planet.S02E04.720p-天天美剧字幕组.mp4\n",
      "  +--Moving:d:\\Downloads\\TV\\蓝色星球.Blue.Planet.S02E04.720p-天天美剧字幕组.mp4\n",
      "  + 蓝色星球.Blue.Planet.S02E05.720p-天天美剧字幕组.mp4\n",
      "  +--Moving:d:\\Downloads\\TV\\蓝色星球.Blue.Planet.S02E05.720p-天天美剧字幕组.mp4\n",
      "  + 蓝色星球.Blue.Planet.S02E06.720p-天天美剧字幕组.mp4\n",
      "  +--Moving:d:\\Downloads\\TV\\蓝色星球.Blue.Planet.S02E06.720p-天天美剧字幕组.mp4\n",
      "  + 蓝色星球.Blue.Planet.S02E07.720p-天天美剧字幕组.mp4\n",
      "  +--Moving:d:\\Downloads\\TV\\蓝色星球.Blue.Planet.S02E07.720p-天天美剧字幕组.mp4\n",
      "================Finished================\n"
     ]
    }
   ],
   "source": [
    "def split2group(string,seperator,groups,groupBy=0):\n",
    "    nameSplits=string.split(seperator)\n",
    "#     print('[split]@',seperator,'\\t',nameSplits)\n",
    "    if( len(nameSplits)>=2 ):\n",
    "        dirName = nameSplits[groupBy]\n",
    "        groups[dirName].append(string)\n",
    "#         print(dirName)\n",
    "        return(True)\n",
    "    else:\n",
    "        return(False)\n",
    "\n",
    "\n",
    "dirs = defaultdict(lambda:[])\n",
    "seps = ['.S0', '.S1', '.第', \"第\",\"]EP\"]\n",
    "include_suffix = ['.mp4','.rmvb','mkv','.avi']\n",
    "with os.scandir(work_dir) as it:\n",
    "    for entry in it:\n",
    "        isIncludedSuffix = False\n",
    "        for suf in include_suffix:\n",
    "            if entry.name.endswith(suf):\n",
    "                isIncludedSuffix = True\n",
    "                break\n",
    "            else:\n",
    "                continue\n",
    "        if entry.is_file() and  not entry.name.startswith('.') and isIncludedSuffix:\n",
    "#             print(entry.name)\n",
    "            for sep in seps:\n",
    "                if split2group( string=entry.name, seperator=sep, groups=dirs ):\n",
    "                    isGrouped = True\n",
    "                    break\n",
    "            else:\n",
    "                isGrouped = False\n",
    "#             print(isGrouped,'\\t', entry.name)\n",
    "            if not isGrouped:\n",
    "                dirs['[]'].append(entry.name)\n",
    "            \n",
    "            \n",
    "print(\"================Starting================\")\n",
    "# pprint(dirs)\n",
    "for (k) in dirs:\n",
    "    path = os.path.join(work_dir,k)\n",
    "    print(k,'\\t',path)\n",
    "    if not os.path.exists(path):\n",
    "        print('Making dir:'+path)\n",
    "        os.mkdir(path)\n",
    "    for v in dirs[k]:\n",
    "        print('  +',v)\n",
    "        print('  +--Moving:'+ os.path.join(work_dir,v))\n",
    "        shutil.move(src=os.path.join(work_dir,v), dst=os.path.join(path, v))\n",
    "print(\"================Finished================\")"
   ]
  }
 ],
 "metadata": {
  "kernelspec": {
   "display_name": "Python 3",
   "language": "python",
   "name": "python3"
  },
  "language_info": {
   "codemirror_mode": {
    "name": "ipython",
    "version": 3
   },
   "file_extension": ".py",
   "mimetype": "text/x-python",
   "name": "python",
   "nbconvert_exporter": "python",
   "pygments_lexer": "ipython3",
   "version": "3.6.2"
  }
 },
 "nbformat": 4,
 "nbformat_minor": 2
}
