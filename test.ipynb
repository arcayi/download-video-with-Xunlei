{
 "cells": [
  {
   "cell_type": "code",
   "execution_count": 1,
   "metadata": {
    "collapsed": true
   },
   "outputs": [],
   "source": [
    "# -*- coding=utf-8 -*- \n",
    "import os \n",
    "import time \n",
    "from win32com.client import Dispatch \n",
    "def addTasktoXunlei(down_url,course_infos=None): \n",
    "    flag = False \n",
    "    o = Dispatch(\"ThunderAgent.Agent.1\") \n",
    "    if down_url: \n",
    "        course_path = os.getcwd() \n",
    "        try: \n",
    "            #AddTask(\"下载地址\", \"另存文件名\", \"保存目录\",\"任务注释\",\"引用地址\",\"开始模式\", \"只从原始地址下载\",\"从原始地址下载线程数\") \n",
    "            o.AddTask(down_url, '', course_path, \"\", \"\", -1, 0, 5) \n",
    "            o.CommitTasks() \n",
    "            flag = True \n",
    "        except Exception: \n",
    "            print(Exception.message) \n",
    "            print(\" AddTask is fail!\") \n",
    "    return flag \n"
   ]
  },
  {
   "cell_type": "code",
   "execution_count": 2,
   "metadata": {},
   "outputs": [
    {
     "data": {
      "text/plain": [
       "1"
      ]
     },
     "execution_count": 2,
     "metadata": {},
     "output_type": "execute_result"
    }
   ],
   "source": [
    "url  = 'magnet:?xt=urn:btih:DF5CB60D79FE5764ACCB0AEBA8105222F622CBF1'\n",
    "\n",
    "# addTasktoXunlei(url)\n",
    "thunderUrl = (url)\n",
    "os.chdir(\"C:\\\\Program Files (x86)\\\\Thunder Network\\\\Thunder\\\\Program\\\\\")\n",
    "os.system(\"Thunder.exe -StartType:DesktopIcon \\\"%s\\\"\"%thunderUrl)\n"
   ]
  }
 ],
 "metadata": {
  "kernelspec": {
   "display_name": "Python 3",
   "language": "python",
   "name": "python3"
  },
  "language_info": {
   "codemirror_mode": {
    "name": "ipython",
    "version": 3
   },
   "file_extension": ".py",
   "mimetype": "text/x-python",
   "name": "python",
   "nbconvert_exporter": "python",
   "pygments_lexer": "ipython3",
   "version": "3.6.2"
  }
 },
 "nbformat": 4,
 "nbformat_minor": 2
}
