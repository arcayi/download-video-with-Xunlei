{
 "cells": [
  {
   "cell_type": "code",
   "execution_count": 1,
   "metadata": {
    "collapsed": true
   },
   "outputs": [],
   "source": [
    "#!/usr/bin/env python  \n",
    "# -*- coding: utf-8 -*-  \n",
    "# 真实、迅雷、QQ旋风下载地址之间的转换  \n",
    "import base64  \n",
    "import urllib  \n",
    "import re  \n",
    "  \n",
    "__Author__ = \"LostInNight\"  \n",
    "  \n",
    "  \n",
    "''''' \n",
    "原理: \n",
    "迅雷下载地址：\"thunder://\"+Base64编码(\"AA\"+\"真实地址\"+\"ZZ\") \n",
    "QQ旋风下载地址:\"qqdl://\"+Base64编码(\"真实地址\") \n",
    "'''  \n",
    "  \n",
    "#############  \n",
    "# 常量定义区 #  \n",
    "#############  \n",
    "THUNDER_HEADER = \"thunder://\"  \n",
    "THUNDER_PREFIX = \"AA\"  \n",
    "THUNDER_SUFFIX = \"ZZ\"  \n",
    "QQ_HEADER = \"qqdl://\"  \n",
    "ERROR = \"传入的URL有误，请检查！\"  \n",
    "  \n",
    "# 判断url是否有效  \n",
    "def checkUrl(func):  \n",
    "    def wrapper(url):  \n",
    "        if re.match(r\"(http|https|ftp|ed2k|thunder|qqdl)://\", url):  \n",
    "            return func(url)  \n",
    "        else:  \n",
    "            return ERROR  \n",
    "    return wrapper  \n",
    " \n",
    "@checkUrl  \n",
    "def real2QQ(url):  \n",
    "    url = base64.b64encode(url.encode(\"utf-8\"))  \n",
    "    url = QQ_HEADER + url.decode(\"utf-8\")  \n",
    "    return url  \n",
    " \n",
    "@checkUrl  \n",
    "def qq2Real(url):  \n",
    "    url = url[len(QQ_HEADER):]  \n",
    "    url = base64.b64decode(url.encode(\"utf-8\"))  \n",
    "    url = url.decode(\"utf-8\")  \n",
    "    return url  \n",
    " \n",
    "@checkUrl  \n",
    "def real2Thunder(url):  \n",
    "    url = THUNDER_PREFIX + url + THUNDER_SUFFIX  \n",
    "    url = base64.b64encode(url.encode(\"utf-8\"))  \n",
    "    url = THUNDER_HEADER + url.decode(\"utf-8\")  \n",
    "    return url  \n",
    " \n",
    "@checkUrl  \n",
    "def thunder2Real(url):  \n",
    "    url = url.encode(\"utf-8\")\n",
    "    url = url[len(THUNDER_HEADER):]  \n",
    "#     url = base64.b64decode(url.encode(\"utf-8\"))  \n",
    "    url = base64.b64decode(url)\n",
    "    url = url.decode(\"gbk\")  \n",
    "    url = url[len(THUNDER_PREFIX):-len(THUNDER_SUFFIX)]  \n",
    "    return url  \n",
    " \n",
    "@checkUrl  \n",
    "def qq2Thunder(url):  \n",
    "    return real2Thunder(qq2Real(url))  \n",
    " \n",
    "@checkUrl  \n",
    "def thunder2QQ(url):  \n",
    "    return real2QQ(thunder2Real(url))  \n"
   ]
  },
  {
   "cell_type": "code",
   "execution_count": 2,
   "metadata": {},
   "outputs": [
    {
     "name": "stdout",
     "output_type": "stream",
     "text": [
      "qqdl://ZWQyazovL3xmaWxlfFN1cGVyZ2lybC5TMDFFMDIuNzIwcC5IRFRWLlgyNjQtRElNRU5TSU9OLm1rdnw5NDc2MTcwNDh8NUQ0MzBCQkQ3MjBDMTM1OThEODY3QzM0MjRCNTBCOER8aD0yQUczWlhSTENXTkdDNEs1V0ZOQzRRT01WRFNYV0JCTXwv\n",
      "qqdl://ZWQyazovL3xmaWxlfFN1cGVyZ2lybC5TMDFFMDIuNzIwcC5IRFRWLlgyNjQtRElNRU5TSU9OLm1rdnw5NDc2MTcwNDh8NUQ0MzBCQkQ3MjBDMTM1OThEODY3QzM0MjRCNTBCOER8aD0yQUczWlhSTENXTkdDNEs1V0ZOQzRRT01WRFNYV0JCTXwv\n",
      "thunder://QUFlZDJrOi8vfGZpbGV8U3VwZXJnaXJsLlMwMUUwMi43MjBwLkhEVFYuWDI2NC1ESU1FTlNJT04ubWt2fDk0NzYxNzA0OHw1RDQzMEJCRDcyMEMxMzU5OEQ4NjdDMzQyNEI1MEI4RHxoPTJBRzNaWFJMQ1dOR0M0SzVXRk5DNFFPTVZEU1hXQkJNfC9aWg==\n",
      "qqdl://ZWQyazovL3xmaWxlfFN1cGVyZ2lybC5TMDFFMDIuNzIwcC5IRFRWLlgyNjQtRElNRU5TSU9OLm1rdnw5NDc2MTcwNDh8NUQ0MzBCQkQ3MjBDMTM1OThEODY3QzM0MjRCNTBCOER8aD0yQUczWlhSTENXTkdDNEs1V0ZOQzRRT01WRFNYV0JCTXwv\n"
     ]
    }
   ],
   "source": [
    "if __name__ == \"__main__\":  \n",
    "    # 测试用，SuperGirl第一季第2集下载地址：  \n",
    "    url_1 = r'ed2k://|file|Supergirl.S01E02.720p.HDTV.X264-DIMENSION.mkv|947617048|5D430BBD720C13598D867C3424B50B8D|h=2AG3ZXRLCWNGC4K5WFNC4QOMVDSXWBBM|/'  \n",
    "    url_2 = r'ed2k://|file|Supergirl.S01E02.720p.HDTV.X264-DIMENSION.mkv|947617048|5D430BBD720C13598D867C3424B50B8D|h=2AG3ZXRLCWNGC4K5WFNC4QOMVDSXWBBM|/'  \n",
    "    print(real2QQ(url_1))  \n",
    "    print(thunder2QQ(real2Thunder(url_1)))  \n",
    "    print(real2Thunder(url_1))\n",
    "    print(real2QQ(url_2))  "
   ]
  },
  {
   "cell_type": "code",
   "execution_count": 3,
   "metadata": {},
   "outputs": [
    {
     "name": "stdout",
     "output_type": "stream",
     "text": [
      "magnet:?xt=urn:btih:0d5ad1d13727d3ae56da44cae2c788216d5353f2\n",
      "http://dl94.80s.com.co:999/1712/[大军师SMY之H啸L吟]第01集/[大军师SMY之H啸L吟]第01集_bd.mp4\n"
     ]
    }
   ],
   "source": [
    "    url_3 = r'qqdl://bWFnbmV0Oj94dD11cm46YnRpaDowZDVhZDFkMTM3MjdkM2FlNTZkYTQ0Y2FlMmM3ODgyMTZkNTM1M2Yy'\n",
    "    url_4 = r'thunder://QUFodHRwOi8vZGw5NC44MHMuY29tLmNvOjk5OS8xNzEyL1u08778yqZTTVnWrkjQpUzS91212jAxvK8vW7TzvvzKplNNWdauSNClTNL3XbXaMDG8r19iZC5tcDRaWg=='\n",
    "    print(qq2Real(url_3))\n",
    "    print(thunder2Real(url_4))"
   ]
  },
  {
   "cell_type": "code",
   "execution_count": 7,
   "metadata": {
    "collapsed": true
   },
   "outputs": [],
   "source": [
    "#-*- coding:utf-8 -*-\n",
    "import base64\n",
    " \n",
    "#加密程序\n",
    "def urlencode(url, target='thunder'):\n",
    "#     url=input(\"\\n请输入需要加密的链接地址:\").strip()\n",
    "    print(url)\n",
    "    thunder=\"thunder://\"+(base64.b64encode(('AA'+url+'ZZ').encode('gb2312'))).decode()\n",
    "    flashget=\"[FLASHGET]\"+url+\"[FLASHGET]\"\n",
    "    flashget=\"flashget://\"+(base64.b64encode(flashget.encode('gb2312'))).decode()+\"&abc\"\n",
    "    xuanfeng=\"qqdl://\"+(base64.b64encode(url.encode('gb2312'))).decode()\n",
    "    print('-'*60)\n",
    "    print('迅雷加密地址:\\n'+thunder+'\\n')\n",
    "    print('快车加密地址:\\n'+flashget+'\\n')\n",
    "    print('旋风加密地址:\\n'+xuanfeng+'\\n')\n",
    "#     over()\n",
    " \n",
    "#解密程序\n",
    "def urldecode(url):\n",
    "#     url=input(\"\\n请输入需要解密的链接地址:\").strip()\n",
    "    url=url.split(\"://\")\n",
    "    url[0].lower()\n",
    "    #print(url)\n",
    "    if url[0]==\"thunder\":\n",
    "        deurl=(base64.b64decode(url[1].encode()).decode('gbk'))[2:-2]\n",
    "        print('解密地址:\\n'+deurl+'\\n')\n",
    "#         over()\n",
    " \n",
    "    elif url[0]==\"flashget\":\n",
    "        flashurl=(url[1])[:-4]\n",
    "        print(flashurl)\n",
    "        deurl=(base64.b64decode(flashurl.encode()).decode('gbk'))[10:-10]\n",
    "        #deurl=deurl[10:-10]\n",
    "        print('解密地址:\\n'+deurl+'\\n')\n",
    "#         over()\n",
    " \n",
    "    elif url[0]==\"qqdl\":\n",
    "        deurl=(base64.b64decode(url[1].encode()).decode('gbk'))\n",
    "        print('解密地址:\\n'+deurl+'\\n')\n",
    "#         over()\n",
    " \n",
    "    elif url[0]==\"http\" or url[0]==\"ftp\" or url[0]==\"https\":\n",
    "        print('你忽悠我呢，解密个啥呢？\\n')\n",
    "        over()\n",
    " \n",
    "    else:\n",
    "        print('哥不玩了，蛋疼...\\n')\n",
    "#         over()\n",
    " \n",
    "#www.iplaypy.com\n",
    "#退出程序\n",
    "def over():\n",
    "    input('请输入回车键退出...')\n",
    "    exit()\n",
    " \n",
    "#开始执行程序\n",
    "def acinput():\n",
    "    print('迅雷+快车+旋风地址加密&解密程序：')\n",
    "    print('-'*70)\n",
    "    active=int(input(\"请选择你要执行的操作:\\n1.解密\\n2.加密\\n3.退出\\n输入数字:\")[:-1])\n",
    "    if active==1:\n",
    "        urldecode()\n",
    "    elif active==2:\n",
    "        urlencode()\n",
    "    elif active==3:\n",
    "        exit()\n",
    "    else:\n",
    "        print('听哥的话还是输个数字吧！')\n",
    "    acinput()\n",
    "# acinput()"
   ]
  },
  {
   "cell_type": "code",
   "execution_count": 8,
   "metadata": {
    "collapsed": true
   },
   "outputs": [],
   "source": [
    "url_4 = r'thunder://QUFodHRwOi8vZGw5NC44MHMuY29tLmNvOjk5OS8xNzEyL1u08778U1PC7dyy1q5IWEzS91212jI2vK8vW7TzvvxTU8Lt3LLWrkhYTNL3XbXaMja8r19iZC5tcDRaWg=='"
   ]
  },
  {
   "cell_type": "code",
   "execution_count": 9,
   "metadata": {},
   "outputs": [
    {
     "name": "stdout",
     "output_type": "stream",
     "text": [
      "解密地址:\n",
      "http://dl94.80s.com.co:999/1712/[大军SS马懿之HXL吟]第26集/[大军SS马懿之HXL吟]第26集_bd.mp4\n",
      "\n"
     ]
    }
   ],
   "source": [
    "urldecode(url_4)"
   ]
  }
 ],
 "metadata": {
  "kernelspec": {
   "display_name": "Python 3",
   "language": "python",
   "name": "python3"
  },
  "language_info": {
   "codemirror_mode": {
    "name": "ipython",
    "version": 3
   },
   "file_extension": ".py",
   "mimetype": "text/x-python",
   "name": "python",
   "nbconvert_exporter": "python",
   "pygments_lexer": "ipython3",
   "version": "3.6.2"
  }
 },
 "nbformat": 4,
 "nbformat_minor": 2
}
