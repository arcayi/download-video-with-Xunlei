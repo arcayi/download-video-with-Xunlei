{
 "cells": [
  {
   "cell_type": "code",
   "execution_count": 3,
   "metadata": {
    "collapsed": true
   },
   "outputs": [],
   "source": [
    "# -*- coding: utf-8 -*-\n",
    "# python 3.6\n",
    "# 测试系统，Win10\n",
    "# Author:walter\n",
    "# 实现自动下载影视剧\n",
    "# V1.0 当前只针对www.loldytt.com\n",
    "# 如果您有经验优化，改进此脚本，请不吝指教\n",
    "# mail: arcayi@qq.com\n",
    "\n",
    "from selenium import webdriver\n",
    "import requests\n",
    "from lxml import etree\n",
    "import re\n",
    "import os\n",
    "from win32com.client import Dispatch\n",
    "from urllib import parse\n",
    "\n",
    "from  multiprocessing import Pool#, Process, Manager\n",
    "\n",
    "search_url = {\n",
    "    'loldytt': \"https://www.loldytt.com/search/index.asp?keyword=%s\"\n",
    "}\n",
    "search_xpath = {\n",
    "    'loldytt': '/html/body/center/div[6]/ol/label/a'\n",
    "#               /html/body/center/div[6]/ol[1]/label/a\n",
    "#               /html/body/center/div[6]/ol[3]/label/a\n",
    "}\n",
    "\n",
    "download_xpath = {\n",
    "#     'loldytt' : '/html/body/center/div#liebiao/div/div.con4'\n",
    "    'loldytt' : '//ul[@class=\"downurl\"]/li/a'\n",
    "#     'loldytt' : '//ul[@class=\"downurl\"]'\n",
    "}\n",
    "\n",
    "def search_video(search_keywords, encoding='gbk', source_site = \"loldytt\"):\n",
    "    video_name_urlEncode = parse.quote(search_keywords,encoding=encoding)\n",
    "    sUrl = search_url[source_site]%(video_name_urlEncode)\n",
    "#     print('search url:\\n\\t', sUrl, '\\n')\n",
    "    html = requests.get(sUrl).content\n",
    "    selector = etree.HTML(html)\n",
    "    total_videos = selector.xpath(search_xpath[source_site])\n",
    "    download_pages = {}\n",
    "    for iVideo in total_videos:\n",
    "        download_pages[iVideo.text] = iVideo.xpath('@href')[0]\n",
    "#     print(download_pages)\n",
    "    return(download_pages)\n",
    "\n",
    "def get_download_url_list(download_url, source_site = \"loldytt\"):\n",
    "    html = requests.get(download_url).content\n",
    "#     print(html)\n",
    "    selector = etree.HTML(html)\n",
    "    total_video_downloads = selector.xpath(download_xpath[source_site])\n",
    "#     print( '链接数：', len(total_video_downloads), '\\n' )\n",
    "    download_urls = {}\n",
    "    for iVideo in total_video_downloads:\n",
    "#         print(etree.tostring(iVideo, pretty_print=False),'\\n')\n",
    "        download_urls[iVideo.text] = iVideo.xpath('@href')[0]\n",
    "    return(download_urls)\n",
    "\n",
    "def downloadUrlEncode(url, target='thunder'):\n",
    "#     print(url)\n",
    "    if(target == 'thunder'):\n",
    "        result = \"thunder://\"+(base64.b64encode(('AA'+url+'ZZ').encode('gb2312'))).decode()\n",
    "    elif(target == 'flashget'):\n",
    "        flashget=\"[FLASHGET]\"+url+\"[FLASHGET]\"\n",
    "        result=\"flashget://\"+(base64.b64encode(flashget.encode('gb2312'))).decode()+\"&abc\"\n",
    "    elif(target == 'qqdl'):\n",
    "        result=\"qqdl://\"+(base64.b64encode(url.encode('gb2312'))).decode()\n",
    "    return(result)\n",
    "    \n",
    "def addTasktoXunlei(down_url,course_infos):\n",
    "#     flag = False\n",
    "#     o = Dispatch(\"ThunderAgent.Agent.1\")\n",
    "#     if down_url:\n",
    "#         course_path = os.getcwd()\n",
    "#         try:\n",
    "#             #AddTask(\"下载地址\", \"另存文件名\", \"保存目录\",\"任务注释\",\"引用地址\",\"开始模式\", \"只从原始地址下载\",\"从原始地址下载线程数\")\n",
    "#             o.AddTask(down_url, '', course_path, \"\", \"\", -1, 0, 5)\n",
    "#             o.CommitTasks()\n",
    "#             flag = True\n",
    "#         except Exception:\n",
    "#             print(Exception.message)\n",
    "#             print(\" AddTask is fail!\")\n",
    "#     return flag\n",
    "\n",
    "    os.chdir(\"C:\\\\Program Files (x86)\\\\Thunder Network\\\\Thunder\\\\Program\\\\\")\n",
    "    os.system(\"Thunder.exe \\\"%s\\\"\"%down_url)\n",
    "\n",
    "\n",
    "def downloadFromSearch( keyword ):\n",
    "    download_pages = search_video( keyword )\n",
    "    for vName in download_pages:\n",
    "        print(vName, download_pages[vName])\n",
    "        downloadFromInfoUrl( download_pages[vName] )\n",
    "\n",
    "def downloadFromInfoUrl(infoUrl):\n",
    "        download_urls = get_download_url_list( infoUrl )\n",
    "#         print(download_urls,'\\n')\n",
    "        for i in download_urls:\n",
    "#             print( i, '\\t', download_urls[i],'\\n')            \n",
    "            addTasktoXunlei( download_urls[i], course_infos=None)"
   ]
  },
  {
   "cell_type": "markdown",
   "metadata": {},
   "source": [
    "### 搜索影视剧集名称，并下载所有资源"
   ]
  },
  {
   "cell_type": "code",
   "execution_count": 2,
   "metadata": {
    "scrolled": true
   },
   "outputs": [
    {
     "name": "stdout",
     "output_type": "stream",
     "text": [
      "Please input the video name:\n",
      "\n",
      "begin to search...\n",
      "---------------------------------\n"
     ]
    }
   ],
   "source": [
    "video_name = input('Please input the video name:\\n')\n",
    "print ('begin to search...')\n",
    "print ('---------------------------------')\n",
    "downloadFromSearch(video_name)"
   ]
  },
  {
   "cell_type": "markdown",
   "metadata": {},
   "source": [
    "### 根据影视剧集的介绍页面，下载所有资源"
   ]
  },
  {
   "cell_type": "code",
   "execution_count": 3,
   "metadata": {
    "scrolled": true
   },
   "outputs": [
    {
     "name": "stdout",
     "output_type": "stream",
     "text": [
      "Please input the video info page url:\n",
      "https://www.loldytt.com/Dianshiju/DJSSMZHXLYJSLM2/\n",
      "begin to download...\n",
      "---------------------------------\n",
      "第01-06集 \t magnet:?xt=urn:btih:DF5CB60D79FE5764ACCB0AEBA8105222F622CBF1 \n",
      "\n",
      "第01集 \t thunder://QUFodHRwOi8vZGw5NC44MHMuY29tLmNvOjk5OS8xNzEyL1u08778yqZTTVnWrkjQpUzS91212jAxvK8vW7TzvvzKplNNWdauSNClTNL3XbXaMDG8r19iZC5tcDRaWg== \n",
      "\n",
      "第02集 \t thunder://QUFodHRwOi8vZGw5NC44MHMuY29tLmNvOjk5OS8xNzEyL1u08778yqZTTVnWrkjQpUzS91212jAyvK8vW7TzvvzKplNNWdauSNClTNL3XbXaMDK8r19iZC5tcDRaWg== \n",
      "\n",
      "第03集 \t thunder://QUFodHRwOi8vZGw5NC44MHMuY29tLmNvOjk5OS8xNzEyL1u08778yqZTTVnWrkjQpUzS91212jAzvK8vW7TzvvzKplNNWdauSNClTNL3XbXaMDO8r19iZC5tcDRaWg== \n",
      "\n",
      "第04集 \t thunder://QUFodHRwOi8vZGw5NC44MHMuY29tLmNvOjk5OS8xNzEyL1u08778yqZTTVnWrkjQpUzS91212jA0vK8vW7TzvvzKplNNWdauSNClTNL3XbXaMDS8r19iZC5tcDRaWg== \n",
      "\n",
      "第05集 \t thunder://QUFodHRwOi8vZGw5NC44MHMuY29tLmNvOjk5OS8xNzEyL1u08778yqZTTVnWrkjQpUzS91212jA1vK8vW7TzvvzKplNNWdauSNClTNL3XbXaMDW8r19iZC5tcDRaWg== \n",
      "\n",
      "第06集 \t thunder://QUFodHRwOi8vZGw5NC44MHMuY29tLmNvOjk5OS8xNzEyL1u08778yqZTTVnWrkjQpUzS91212jA2vK8vW7TzvvzKplNNWdauSNClTNL3XbXaMDa8r19iZC5tcDRaWg== \n",
      "\n",
      "第07集 \t thunder://QUFodHRwOi8vZGw5Ni44MHMuY29tLmNvOjk5OS8xNzEyL1u080rKpsu+Tdyy1q5IWEzS91212jA3vK8vW7TzSsqmy75N3LLWrkhYTNL3XbXaMDe8r19iZC5tcDRaWg== \n",
      "\n",
      "第08集 \t thunder://QUFodHRwOi8vZGw5Ni44MHMuY29tLmNvOjk5OS8xNzEyL1u080rKpsu+Tdyy1q5IWEzS91212jA4vK8vW7TzSsqmy75N3LLWrkhYTNL3XbXaMDi8r19iZC5tcDRaWg== \n",
      "\n",
      "第09集 \t thunder://QUFodHRwOi8vZGw5Ni44MHMuY29tLmNvOjk5OS8xNzEyL1u080rKpsu+Tdyy1q5IWEzS91212jA5vK8vW7TzSsqmy75N3LLWrkhYTNL3XbXaMDm8r19iZC5tcDRaWg== \n",
      "\n",
      "第10集 \t thunder://QUFodHRwOi8vZGw5Ni44MHMuY29tLmNvOjk5OS8xNzEyL1u080rKpsu+Tdyy1q5IWEzS91212jEwvK8vW7TzSsqmy75N3LLWrkhYTNL3XbXaMTC8r19iZC5tcDRaWg== \n",
      "\n",
      "第11集 \t thunder://QUFodHRwOi8vZGw5NS44MHMuY29tLmNvOjk5OS8xNzEyL1u080rKpsu+Tdyy1q5IWEzS91212jExvK8vW7TzSsqmy75N3LLWrkhYTNL3XbXaMTG8r19iZC5tcDRaWg== \n",
      "\n",
      "第12集 \t thunder://QUFodHRwOi8vZGw5NC44MHMuY29tLmNvOjk5OS8xNzEyL1u080rKpsu+Tdyy1q5IWEzS91212jEyvK8vW7TzSsqmy75N3LLWrkhYTNL3XbXaMTK8r19iZC5tcDRaWg== \n",
      "\n",
      "第13集 \t thunder://QUFodHRwOi8vZGw5NC44MHMuY29tLmNvOjk5OS8xNzEyL1u080rKpsu+Tdyy1q5IWEzS91212jEzvK8vW7TzSsqmy75N3LLWrkhYTNL3XbXaMTO8r19iZC5tcDRaWg== \n",
      "\n",
      "第14集 \t thunder://QUFodHRwOi8vZGw5NC44MHMuY29tLmNvOjk5OS8xNzEyL1u080rKpsu+Tdyy1q5IWEzS91212jE0vK8vW7TzSsqmy75N3LLWrkhYTNL3XbXaMTS8r19iZC5tcDRaWg== \n",
      "\n",
      "第15集 \t thunder://QUFodHRwOi8vZGw5NC44MHMuY29tLmNvOjk5OS8xNzEyL1u080rKpsu+Tdyy1q5IWEzS91212jE1vK8vW7TzSsqmy75N3LLWrkhYTNL3XbXaMTW8r19iZC5tcDRaWg== \n",
      "\n",
      "第16集 \t thunder://QUFodHRwOi8vZGw5Ny44MHMuY29tLmNvOjk5OS8xNzEyL1u080rKpsu+Tdyy1q5IWEzS91212jE2vK8vW7TzSsqmy75N3LLWrkhYTNL3XbXaMTa8r19iZC5tcDRaWg== \n",
      "\n",
      "第17集 \t thunder://QUFodHRwOi8vZGw5Ny44MHMuY29tLmNvOjk5OS8xNzEyL1u080rKpsu+Tdyy1q5IWEzS91212jE3vK8vW7TzSsqmy75N3LLWrkhYTNL3XbXaMTe8r19iZC5tcDRaWg== \n",
      "\n",
      "第18集 \t thunder://QUFodHRwOi8vZGw5Ny44MHMuY29tLmNvOjk5OS8xNzEyL1u080rKpsu+Tdyy1q5IWEzS91212jE4vK8vW7TzSsqmy75N3LLWrkhYTNL3XbXaMTi8r19iZC5tcDRaWg== \n",
      "\n",
      "第19集 \t thunder://QUFodHRwOi8vZGw5Ny44MHMuY29tLmNvOjk5OS8xNzEyL1u080rKpsu+Tdyy1q5IWEzS91212jE5vK8vW7TzSsqmy75N3LLWrkhYTNL3XbXaMTm8r19iZC5tcDRaWg== \n",
      "\n",
      "第20集 \t thunder://QUFodHRwOi8vZGw5NS44MHMuY29tLmNvOjk5OS8xNzEyL1u080rKpsu+Tdyy1q5IWEzS91212jIwvK8vW7TzSsqmy75N3LLWrkhYTNL3XbXaMjC8r19iZC5tcDRaWg== \n",
      "\n",
      "第21集 \t thunder://QUFodHRwOi8vZGw5NS44MHMuY29tLmNvOjk5OS8xNzEyL1u080rKpsu+Tdyy1q5IWEzS91212jIxvK8vW7TzSsqmy75N3LLWrkhYTNL3XbXaMjG8r19iZC5tcDRaWg== \n",
      "\n",
      "第22集 \t thunder://QUFodHRwOi8vZGw5NS44MHMuY29tLmNvOjk5OS8xNzEyL1u080rKpsu+Tdyy1q5IWEzS91212jIyvK8vW7TzSsqmy75N3LLWrkhYTNL3XbXaMjK8r19iZC5tcDRaWg== \n",
      "\n",
      "第23集 \t thunder://QUFodHRwOi8vZGw5NS44MHMuY29tLmNvOjk5OS8xNzEyL1u080rKpsu+Tdyy1q5IWEzS91212jIzvK8vW7TzSsqmy75N3LLWrkhYTNL3XbXaMjO8r19iZC5tcDRaWg== \n",
      "\n",
      "第24集 \t thunder://QUFodHRwOi8vZGw5NC44MHMuY29tLmNvOjk5OS8xNzEyL1u08778U1PC7dyy1q5IWEzS91212jI0vK8vW7TzvvxTU8Lt3LLWrkhYTNL3XbXaMjS8r19iZC5tcDRaWg== \n",
      "\n",
      "第25集 \t thunder://QUFodHRwOi8vZGw5NC44MHMuY29tLmNvOjk5OS8xNzEyL1u08778U1PC7dyy1q5IWEzS91212jI1vK8vW7TzvvxTU8Lt3LLWrkhYTNL3XbXaMjW8r19iZC5tcDRaWg== \n",
      "\n",
      "第26集 \t thunder://QUFodHRwOi8vZGw5NC44MHMuY29tLmNvOjk5OS8xNzEyL1u08778U1PC7dyy1q5IWEzS91212jI2vK8vW7TzvvxTU8Lt3LLWrkhYTNL3XbXaMja8r19iZC5tcDRaWg== \n",
      "\n",
      "第27集 \t thunder://QUFodHRwOi8vZGw5NC44MHMuY29tLmNvOjk5OS8xNzEyL1u08778U1PC7dyy1q5IWEzS91212jI3vK8vW7TzvvxTU8Lt3LLWrkhYTNL3XbXaMje8r19iZC5tcDRaWg== \n",
      "\n",
      "第28集 \t thunder://QUFodHRwOi8vZGw5Ni44MHMuY29tLmNvOjk5OS8xNzEyL1u08778U1PC7dyy1q5IWEzS91212jI4vK8vW7TzvvxTU8Lt3LLWrkhYTNL3XbXaMji8r19iZC5tcDRaWg== \n",
      "\n",
      "第29集 \t thunder://QUFodHRwOi8vZGw5Ni44MHMuY29tLmNvOjk5OS8xNzEyL1u08778U1PC7dyy1q5IWEzS91212jI5vK8vW7TzvvxTU8Lt3LLWrkhYTNL3XbXaMjm8r19iZC5tcDRaWg== \n",
      "\n",
      "第30集 \t thunder://QUFodHRwOi8vZGw5Ni44MHMuY29tLmNvOjk5OS8xNzEyL1u08778U1PC7dyy1q5IWEzS91212jMwvK8vW7TzvvxTU8Lt3LLWrkhYTNL3XbXaMzC8r19iZC5tcDRaWg== \n",
      "\n",
      "第31集 \t thunder://QUFodHRwOi8vZGw5NS44MHMuY29tLmNvOjk5OS8xNzEyL1u08778U1PC7dyy1q5IWEzS91212jMxvK8vW7TzvvxTU8Lt3LLWrkhYTNL3XbXaMzG8r19iZC5tcDRaWg== \n",
      "\n"
     ]
    }
   ],
   "source": [
    "url = input('Please input the video info page url:\\n')\n",
    "print ('begin to download...')\n",
    "print ('---------------------------------')\n",
    "downloadFromInfoUrl( url )"
   ]
  },
  {
   "cell_type": "markdown",
   "metadata": {},
   "source": [
    "### 根据影视剧集的介绍页面列表，下载所有资源"
   ]
  },
  {
   "cell_type": "code",
   "execution_count": 5,
   "metadata": {
    "scrolled": true
   },
   "outputs": [
    {
     "name": "stdout",
     "output_type": "stream",
     "text": [
      "开始处理...\n",
      "---------------------------------\n",
      "https://www.loldytt.com/Dianshiju/DJSSMZHXLYJSLM2/\n",
      "http://www.loldytt.com/Zuixinmeiju/WJCQDWJ/\n",
      "http://www.loldytt.com/Zuixinmeiju/LBQDMSEFRDYJ/\n",
      "https://www.loldytt.com/Zuixinmeiju/SHDBZDSJ/\n",
      "https://www.loldytt.com/Zuixinmeiju/SHDBZDSYJ/\n",
      "http://www.loldytt.com/Zuixinmeiju/JQSNFLJDYJ/\n",
      "https://www.loldytt.com/Zuixinmeiju/SNXEDDYJ/\n",
      "https://www.loldytt.com/Zuixinmeiju/BEDKBDKDSJ/\n",
      "---------------------------------\n",
      "准备好下载，请切换到迅雷进行下一步\n"
     ]
    }
   ],
   "source": [
    "urls = [\n",
    "    'https://www.loldytt.com/Dianshiju/DJSSMZHXLYJSLM2/', #大军师司马懿之虎啸龙吟/军师联盟2\n",
    "    'http://www.loldytt.com/Zuixinmeiju/WJCQDWJ/', #维京传奇第五季\n",
    "    'http://www.loldytt.com/Zuixinmeiju/LBQDMSEFRDYJ/', # 了不起的麦瑟尔夫人第一季\n",
    "    'https://www.loldytt.com/Zuixinmeiju/SHDBZDSJ/', # 生活大爆炸第十季\n",
    "    'https://www.loldytt.com/Zuixinmeiju/SHDBZDSYJ/', # 生活大爆炸第十一季\n",
    "    'http://www.loldytt.com/Zuixinmeiju/JQSNFLJDYJ/', # 机器少女法兰姬第一季\n",
    "    'https://www.loldytt.com/Zuixinmeiju/SNXEDDYJ/', #少年谢尔顿第一季\n",
    "    'https://www.loldytt.com/Zuixinmeiju/BEDKBDKDSJ/', # 波尔达克/波达克第三季\n",
    "]\n",
    "print ('开始处理...')\n",
    "print ('---------------------------------')\n",
    "processNumber = 5\n",
    "pool = Pool( processNumber )  #允许进程池同时放入5个进程\n",
    "#     p.map(downloadFromInfoUrl, urls )\n",
    "for url in urls:\n",
    "    print(url)\n",
    "    downloadFromInfoUrl(url) \n",
    "#     pool.apply_async(\n",
    "#         func=downloadFromInfoUrl, args=(url) #, callback = lambda x : dfResult.append(x)\n",
    "#     )\n",
    "# pool.close()\n",
    "# pool.join() #主进程等待所有子进程执行完毕。必须在close()或terminate()之后。\n",
    "print ('---------------------------------')\n",
    "print ('准备好下载，请切换到迅雷进行下一步')"
   ]
  }
 ],
 "metadata": {
  "kernelspec": {
   "display_name": "Python 3",
   "language": "python",
   "name": "python3"
  },
  "language_info": {
   "codemirror_mode": {
    "name": "ipython",
    "version": 3
   },
   "file_extension": ".py",
   "mimetype": "text/x-python",
   "name": "python",
   "nbconvert_exporter": "python",
   "pygments_lexer": "ipython3",
   "version": "3.6.2"
  }
 },
 "nbformat": 4,
 "nbformat_minor": 2
}
